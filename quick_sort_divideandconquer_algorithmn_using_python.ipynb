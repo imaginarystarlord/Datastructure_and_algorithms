{
 "cells": [
  {
   "cell_type": "code",
   "execution_count": 12,
   "metadata": {},
   "outputs": [
    {
     "name": "stdout",
     "output_type": "stream",
     "text": [
      "[1, 2, 5, 5, 6, 7, 8]\n"
     ]
    }
   ],
   "source": [
    "\n",
    "def partition(unsort,s,e):\n",
    "    i = s-1\n",
    "    pivot = unsort[e]\n",
    "    for j in range(s,e):\n",
    "        if unsort[j] <= pivot:\n",
    "            i+=1\n",
    "            unsort[i],unsort[j] = unsort[j],unsort[i]\n",
    "            \n",
    "    unsort[i+1],unsort[e] = unsort[e],unsort[i+1]\n",
    "    return i+1\n",
    "            \n",
    "            \n",
    "\n",
    "def quicksort(unsort,s,e):\n",
    "    if s>=e:\n",
    "        return\n",
    "    p = partition(unsort,s,e)\n",
    "    quicksort(unsort,s,p-1)\n",
    "    quicksort(unsort,p+1,e)\n",
    "    \n",
    "unsort = [2,1,5,6,7,5,8]\n",
    "\n",
    "n = len(unsort)\n",
    "quicksort(unsort,0,n-1)\n",
    "print(unsort)\n"
   ]
  },
  {
   "cell_type": "code",
   "execution_count": null,
   "metadata": {},
   "outputs": [],
   "source": []
  }
 ],
 "metadata": {
  "kernelspec": {
   "display_name": "Python 3",
   "language": "python",
   "name": "python3"
  },
  "language_info": {
   "codemirror_mode": {
    "name": "ipython",
    "version": 3
   },
   "file_extension": ".py",
   "mimetype": "text/x-python",
   "name": "python",
   "nbconvert_exporter": "python",
   "pygments_lexer": "ipython3",
   "version": "3.6.5"
  }
 },
 "nbformat": 4,
 "nbformat_minor": 2
}
